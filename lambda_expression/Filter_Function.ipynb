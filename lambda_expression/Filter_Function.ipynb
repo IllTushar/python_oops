{
 "cells": [
  {
   "cell_type": "code",
   "execution_count": 1,
   "id": "6cc40865-6fac-477b-adf4-cd9a40585024",
   "metadata": {},
   "outputs": [],
   "source": [
    "## regular function\n",
    "def even(num):\n",
    "    if num%2==0:return True"
   ]
  },
  {
   "cell_type": "code",
   "execution_count": 2,
   "id": "0a8e7f20-65b1-461b-850b-c7a8557286eb",
   "metadata": {},
   "outputs": [],
   "source": [
    "numbers = [1,2,3,4,5,6,7,8,9,10]"
   ]
  },
  {
   "cell_type": "code",
   "execution_count": 3,
   "id": "7b1d79bb-210f-456d-9599-aac17e25e47f",
   "metadata": {},
   "outputs": [
    {
     "data": {
      "text/plain": [
       "[2, 4, 6, 8, 10]"
      ]
     },
     "execution_count": 3,
     "metadata": {},
     "output_type": "execute_result"
    }
   ],
   "source": [
    "list(filter(even,numbers))"
   ]
  },
  {
   "cell_type": "code",
   "execution_count": 6,
   "id": "b5826d73-5639-4a6f-a4eb-2795e738dadc",
   "metadata": {},
   "outputs": [
    {
     "data": {
      "text/plain": [
       "[6, 7, 8, 9, 10]"
      ]
     },
     "execution_count": 6,
     "metadata": {},
     "output_type": "execute_result"
    }
   ],
   "source": [
    "# lambda function single condition\n",
    "list(filter(lambda x: x>5 ,numbers))"
   ]
  },
  {
   "cell_type": "code",
   "execution_count": 7,
   "id": "3e7081d6-e670-4d9b-a40f-5446fc1fb5dc",
   "metadata": {},
   "outputs": [
    {
     "data": {
      "text/plain": [
       "[6, 8, 10]"
      ]
     },
     "execution_count": 7,
     "metadata": {},
     "output_type": "execute_result"
    }
   ],
   "source": [
    "#lambda function with to condition\n",
    "list(filter(lambda x: x>5 and x%2==0,numbers))"
   ]
  },
  {
   "cell_type": "code",
   "execution_count": 9,
   "id": "81ffde8f-b394-410e-910a-a4d5431474c4",
   "metadata": {},
   "outputs": [],
   "source": [
    "people = [\n",
    "    {\"name\":\"Tushar\",\"age\":42},\n",
    "    {\"name\":\"Jack\",\"age\":24},\n",
    "    {\"name\":\"Johan\",\"age\":31}\n",
    "]"
   ]
  },
  {
   "cell_type": "code",
   "execution_count": null,
   "id": "c80a8231-16eb-47f0-8502-78f469837d3a",
   "metadata": {},
   "outputs": [],
   "source": [
    "def function_age(people):"
   ]
  }
 ],
 "metadata": {
  "kernelspec": {
   "display_name": "Python 3 (ipykernel)",
   "language": "python",
   "name": "python3"
  },
  "language_info": {
   "codemirror_mode": {
    "name": "ipython",
    "version": 3
   },
   "file_extension": ".py",
   "mimetype": "text/x-python",
   "name": "python",
   "nbconvert_exporter": "python",
   "pygments_lexer": "ipython3",
   "version": "3.12.3"
  }
 },
 "nbformat": 4,
 "nbformat_minor": 5
}
