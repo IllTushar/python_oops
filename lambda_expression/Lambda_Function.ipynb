{
 "cells": [
  {
   "cell_type": "code",
   "execution_count": 3,
   "id": "88398b8f-a5c4-4124-90d9-f71ed4f55e9d",
   "metadata": {},
   "outputs": [],
   "source": [
    "# add function\n",
    "add = lambda x,y : x+y"
   ]
  },
  {
   "cell_type": "code",
   "execution_count": 4,
   "id": "9da588ad-047b-4569-b42c-fb3ed44bb9cb",
   "metadata": {},
   "outputs": [
    {
     "data": {
      "text/plain": [
       "5"
      ]
     },
     "execution_count": 4,
     "metadata": {},
     "output_type": "execute_result"
    }
   ],
   "source": [
    "add(2,3)"
   ]
  },
  {
   "cell_type": "code",
   "execution_count": 6,
   "id": "efb420d2-5285-4486-9ae0-5fea76e7093f",
   "metadata": {},
   "outputs": [],
   "source": [
    "# iteration\n",
    "numbers = [1,2,3,4,5]"
   ]
  },
  {
   "cell_type": "code",
   "execution_count": 14,
   "id": "3da2f135-b130-4ee9-8f0c-f6def7d5e7cb",
   "metadata": {},
   "outputs": [
    {
     "data": {
      "text/plain": [
       "[1, 4, 9, 16, 25]"
      ]
     },
     "execution_count": 14,
     "metadata": {},
     "output_type": "execute_result"
    }
   ],
   "source": [
    "list(map(lambda x : x**2,numbers))"
   ]
  },
  {
   "cell_type": "code",
   "execution_count": 15,
   "id": "a3e227e4-e13d-44d3-b362-821db4eb1785",
   "metadata": {},
   "outputs": [],
   "source": [
    "# conditional\n",
    "even = lambda number : number%2==0"
   ]
  },
  {
   "cell_type": "code",
   "execution_count": 16,
   "id": "e4c22d40-228d-47c1-af0f-13d0f3104a29",
   "metadata": {},
   "outputs": [
    {
     "data": {
      "text/plain": [
       "False"
      ]
     },
     "execution_count": 16,
     "metadata": {},
     "output_type": "execute_result"
    }
   ],
   "source": [
    "even(33)"
   ]
  },
  {
   "cell_type": "code",
   "execution_count": 17,
   "id": "b08d20ab-ab78-48d2-8e33-18c47fe07ce5",
   "metadata": {},
   "outputs": [
    {
     "data": {
      "text/plain": [
       "True"
      ]
     },
     "execution_count": 17,
     "metadata": {},
     "output_type": "execute_result"
    }
   ],
   "source": [
    "even(22)"
   ]
  },
  {
   "cell_type": "code",
   "execution_count": null,
   "id": "b8ea78db-4e94-4f0f-9c6a-fa444ef4f193",
   "metadata": {},
   "outputs": [],
   "source": []
  }
 ],
 "metadata": {
  "kernelspec": {
   "display_name": "Python 3 (ipykernel)",
   "language": "python",
   "name": "python3"
  },
  "language_info": {
   "codemirror_mode": {
    "name": "ipython",
    "version": 3
   },
   "file_extension": ".py",
   "mimetype": "text/x-python",
   "name": "python",
   "nbconvert_exporter": "python",
   "pygments_lexer": "ipython3",
   "version": "3.12.3"
  }
 },
 "nbformat": 4,
 "nbformat_minor": 5
}
