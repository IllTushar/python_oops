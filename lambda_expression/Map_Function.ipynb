{
 "cells": [
  {
   "cell_type": "code",
   "execution_count": 11,
   "id": "2035e25b-51b5-4311-8fb3-35d771587ff5",
   "metadata": {},
   "outputs": [],
   "source": [
    "# used for regular functions\n",
    "def add(x): return x+x\n",
    "numbers =[1,2]"
   ]
  },
  {
   "cell_type": "code",
   "execution_count": 12,
   "id": "90f7fca5-89fa-487f-a173-ede338f97b26",
   "metadata": {},
   "outputs": [
    {
     "data": {
      "text/plain": [
       "[2, 4]"
      ]
     },
     "execution_count": 12,
     "metadata": {},
     "output_type": "execute_result"
    }
   ],
   "source": [
    "list(map(add,numbers))"
   ]
  },
  {
   "cell_type": "code",
   "execution_count": 13,
   "id": "411e60eb-01d1-480b-bd19-c058c6ce959a",
   "metadata": {},
   "outputs": [
    {
     "data": {
      "text/plain": [
       "[6, 8, 10, 12]"
      ]
     },
     "execution_count": 13,
     "metadata": {},
     "output_type": "execute_result"
    }
   ],
   "source": [
    "# for lambda functions\n",
    "number_1 = [1,2,3,4]\n",
    "number_2 = [5,6,7,8]\n",
    "list(map(lambda x,y: x+y, number_1,number_2))"
   ]
  },
  {
   "cell_type": "code",
   "execution_count": 14,
   "id": "14be59e4-a156-47db-b645-a2888fc302a8",
   "metadata": {},
   "outputs": [],
   "source": [
    "# use inbuilt function\n",
    "fruits =['apple','mango','banana']"
   ]
  },
  {
   "cell_type": "code",
   "execution_count": 15,
   "id": "85f24919-b54a-41cc-b414-5b1ba16b7072",
   "metadata": {},
   "outputs": [
    {
     "data": {
      "text/plain": [
       "['APPLE', 'MANGO', 'BANANA']"
      ]
     },
     "execution_count": 15,
     "metadata": {},
     "output_type": "execute_result"
    }
   ],
   "source": [
    "list(map(str.upper,fruits))"
   ]
  },
  {
   "cell_type": "code",
   "execution_count": 16,
   "id": "a700bd46-0373-4d4a-aea1-b0688e30dfac",
   "metadata": {},
   "outputs": [],
   "source": [
    "# use for type casting\n",
    "num = ['1','2','3']"
   ]
  },
  {
   "cell_type": "code",
   "execution_count": 17,
   "id": "4c4d8a97-a7ff-4927-bb5d-2914a73999bf",
   "metadata": {},
   "outputs": [
    {
     "data": {
      "text/plain": [
       "[1, 2, 3]"
      ]
     },
     "execution_count": 17,
     "metadata": {},
     "output_type": "execute_result"
    }
   ],
   "source": [
    "list(map(int,num))"
   ]
  },
  {
   "cell_type": "code",
   "execution_count": null,
   "id": "93637571-f64d-4223-9412-200c1df039c5",
   "metadata": {},
   "outputs": [],
   "source": []
  }
 ],
 "metadata": {
  "kernelspec": {
   "display_name": "Python 3 (ipykernel)",
   "language": "python",
   "name": "python3"
  },
  "language_info": {
   "codemirror_mode": {
    "name": "ipython",
    "version": 3
   },
   "file_extension": ".py",
   "mimetype": "text/x-python",
   "name": "python",
   "nbconvert_exporter": "python",
   "pygments_lexer": "ipython3",
   "version": "3.12.3"
  }
 },
 "nbformat": 4,
 "nbformat_minor": 5
}
